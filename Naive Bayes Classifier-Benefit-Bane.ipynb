{
 "cells": [
  {
   "cell_type": "markdown",
   "metadata": {},
   "source": [
    "\n",
    "# Simplicity of Naive Bayes Classifiers: Benefit and Bane\n",
    "\n",
    "\n",
    "The goal of this notebook is to understand the **benefit and bane** of the Naive Bayes (NB) algorithm.\n",
    "\n",
    "More specifically, we will **<font color=red> investigate the limitation</font>** of the NB classifier.\n",
    "\n",
    "First, let's briefly discuss the benefit of the NB classifier.\n",
    "\n",
    "\n",
    "## Benefit of \"Simplicity\"\n",
    "\n",
    "The Naive Bayes algorithm is fueled by two \"simplicity\".\n",
    "    - Simple inductive bias: conditional independence\n",
    "    - Simple computation: statistical estimation of the prior and likelihood\n",
    "\n",
    "\n",
    "In the NB classifier, we make a strong assumption: **given the class, the features are conditionaly independent**. The model is called \"naive\" because we do not expect the features to be independent, even conditional on the class label.\n",
    "\n",
    "However, for solving text classification problems we see that although the naive Bayes assumption is an extremely strong assumption, the performance of the NB classifier is surprisingly good.\n",
    "\n",
    "The reason NB classifier works well in text classification problems is that the conditional independence is a reasonalble assumption in the context of text classification. \n",
    "\n",
    "As an example, consider classifying emails into spam and ham. Words like \"lottery\", \"prize\" and \"win\" are all likely indicators that the email might be spam. On the other hand words like \"Bayes\", \"Learning\", \"Classifier\" are good indicators of a ham email. Thus, we could model the **probability of occurrence for each of these words independently, given the respective class** and then use it to score the likelihood of a text.\n",
    "\n",
    "\n",
    "\n",
    "## Bane of \"Simplicity\"\n",
    "\n",
    "However, the conditional independence assumption might not hold in some domains. For example, in image classification problems if we use pixel values to model the feature vectors, then the NB assumption fails. The reason is that the feature values (pixels) are not conditionally independent. The **pixels are not independently generated, depending only on the label**. If we look at a black pixel at one of the corners, the other pixels around is likely to be black.\n",
    "\n",
    "Thus, the NB assumption does not hold for the feature values (pixels) in an image classification problem.\n",
    "\n",
    "Because of its simplicity, Naive Bayes was a very popular choice for building spam filters during 80s and 90s. However, for classifying images it is not as effective. The main reason, as we identified, is the inadequacy of its simplicity! The inductive bias (conditional independence assumption) simply doesn't hold in many domains (e.g., image classification).\n",
    "\n",
    "It is due to this incorrect assumption about the \"world\", NB classifiers lost its popularity. Advanced models such as Artificial Neural Network was invented for image classification. \n",
    "\n",
    "\n",
    "In this notebook, we use NB classifier to **solve an image classification problem**. We compare the performance of the NB classifier with the K-Nearest Neighbor (KNN) memory-based model that we learned previously.\n",
    "\n",
    "\n",
    "## Dataset: MNIST\n",
    "\n",
    "We use the MNIST (Modified National Institute of Standards and Technology) dataset, which is a set of 70,000 small images of digits handwritten by high school students and employees of the US Census Bureau. Each image is labeled with the digit it represents.\n",
    "\n",
    "\n",
    "There are 70,000 images. Each image is **grayscale 28 x 28 pixels**, and each feature simply represents one pixel’s intensity, from 0 (white) to 255 (black).\n",
    "\n",
    "Thus, each image has **784 features**. \n",
    "\n",
    "The task is to classify a given image of a handwritten digit into one of 10 classes representing integer values from 0 to 9, inclusively.\n",
    "\n",
    "\n",
    "## NB Models for Investigation\n",
    "\n",
    "We model a feature vector (an image) as a 784 dimensional vector. Each dimension represents an individual pixel value. Since the pixels represent light intensity in the range of 0 ~ 255, we have two choices to model the feature values.\n",
    "\n",
    "- Multi-valued categorical (value of a pixel can be 0 ~ 255)\n",
    "- Real-valued\n",
    "\n",
    "\n",
    "Thus, we implement two NB classifiers:\n",
    "- Gaussian NB model \n",
    "- Multinomial NB model\n",
    "\n",
    "\n",
    "## Hardware Specification\n",
    "\n",
    "The experiments in this notebook are done using MacBook Pro with the following specifications:\n",
    "\n",
    "- Processor Name:\tIntel Core i7\n",
    "- Processor Speed: 2 GHz\n",
    "- Number of Processors: 1\n",
    "- Total Number of Cores:\t4\n",
    "- Memory:\t16 GB"
   ]
  },
  {
   "cell_type": "code",
   "execution_count": 1,
   "metadata": {},
   "outputs": [],
   "source": [
    "import warnings\n",
    "import numpy as np\n",
    "%matplotlib inline\n",
    "import matplotlib.pyplot as plt\n",
    "\n",
    "from sklearn.datasets import fetch_openml\n",
    "from sklearn.neighbors import KNeighborsClassifier\n",
    "from sklearn.naive_bayes import GaussianNB, MultinomialNB\n",
    "from sklearn.model_selection import train_test_split, GridSearchCV, cross_val_score, cross_val_predict\n",
    "from sklearn.metrics import confusion_matrix, precision_score, recall_score, f1_score, classification_report"
   ]
  },
  {
   "cell_type": "markdown",
   "metadata": {},
   "source": [
    "## Load Data, Create Data Matrix (X) & Target Vector (y)"
   ]
  },
  {
   "cell_type": "code",
   "execution_count": 2,
   "metadata": {},
   "outputs": [
    {
     "name": "stdout",
     "output_type": "stream",
     "text": [
      "dict_keys(['data', 'target', 'feature_names', 'DESCR', 'details', 'categories', 'url'])\n",
      "['5' '0' '4' ... '4' '5' '6']\n",
      "\n",
      "No. of Samples:  (70000, 784)\n",
      "No. of Labels:  (70000,)\n"
     ]
    }
   ],
   "source": [
    "# Load data using Scikit-Learn\n",
    "mnist = fetch_openml('mnist_784', cache=False)\n",
    "\n",
    "print(mnist.keys())\n",
    "print(mnist.target)\n",
    "\n",
    "\n",
    "X = mnist[\"data\"].astype('float32')\n",
    "y = mnist[\"target\"].astype('int64')\n",
    "\n",
    "\n",
    "print(\"\\nNo. of Samples: \", X.shape)\n",
    "print(\"No. of Labels: \", y.shape)"
   ]
  },
  {
   "cell_type": "markdown",
   "metadata": {},
   "source": [
    "## Display a Random Image\n",
    "\n",
    "To display a digit, we need to reshape an instance’s feature vector to a 28 x 28 array. \n",
    "\n",
    "For displaying we use Matplotlib’s imshow() function.\n",
    "\n",
    "We see that there are white numbers on a black background, each thickly written just in the middle and they are quite low resolution (28 x 28 pixels)."
   ]
  },
  {
   "cell_type": "code",
   "execution_count": 3,
   "metadata": {},
   "outputs": [
    {
     "data": {
      "image/png": "[encoded data removed]",
      "text/plain": [
       "<Figure size 432x288 with 1 Axes>"
      ]
     },
     "metadata": {
      "needs_background": "light"
     },
     "output_type": "display_data"
    }
   ],
   "source": [
    "random_digit = X[33528]\n",
    "\n",
    "random_digit_image = random_digit.reshape(28, 28)\n",
    "\n",
    "plt.imshow(random_digit_image, cmap = \"gray\", interpolation=\"nearest\")\n",
    "#plt.axis(\"off\")\n",
    "plt.show()"
   ]
  },
  {
   "cell_type": "markdown",
   "metadata": {},
   "source": [
    "## Visualize A Number With Pixel Values\n",
    "\n",
    "Let's visualize the above number with its pixel values.\n",
    "\n",
    "Note that the images are grayscale. Before plotting the grayscale pixel values we need to understand the grayscale image format.\n",
    "\n",
    "### Grayscale Image Format\n",
    "A grayscale (or graylevel) image is simply one in which the only colors are shades of gray. The reason for differentiating such images from any other sort of color image is that less information needs to be provided for each pixel. \n",
    "\n",
    "In fact a 'gray' color is one in which the red, green and blue components all have equal intensity in RGB space, and so it is only necessary to specify a single intensity value for each pixel, as opposed to the three intensities needed to specify each pixel in a full color image.\n",
    "\n",
    "For a grayscale images, the pixel value is a single number that represents the **brightness of the pixel**. The most common pixel format is the byte image, where this number is stored as an 8-bit integer giving a range of possible values from 0 to 255. \n",
    "\n",
    "Typically **0 is taken to be black, and 255 is taken to be white**. Values in between make up the different shades of gray."
   ]
  },
  {
   "cell_type": "code",
   "execution_count": 4,
   "metadata": {},
   "outputs": [
    {
     "data": {
      "image/png": "[encoded data removed]",
      "text/plain": [
       "<Figure size 864x864 with 1 Axes>"
      ]
     },
     "metadata": {
      "needs_background": "light"
     },
     "output_type": "display_data"
    }
   ],
   "source": [
    "# Visualize a number with its pixel values\n",
    "def visualize_input(img):\n",
    "    fig = plt.figure(figsize = (12,12)) \n",
    "    img = img.reshape(28, 28)\n",
    "    plt.imshow(img, cmap='gray')\n",
    "    width, height = img.shape\n",
    "    thresh = img.max()/2.5\n",
    "    for x in range(width):\n",
    "        for y in range(height):\n",
    "            plt.annotate(str(round(img[x][y],2)), xy=(y,x),\n",
    "                        horizontalalignment='center',\n",
    "                        verticalalignment='center',\n",
    "                        color='white' if img[x][y]<thresh else 'black')\n",
    "\n",
    "visualize_input(X[33528])"
   ]
  },
  {
   "cell_type": "markdown",
   "metadata": {},
   "source": [
    "## Data Saling\n",
    "\n",
    "To avoid big weights that deal with the pixel values from between [0, 255], we scale X down.\n",
    "\n",
    "A commonly used range is [0, 1]."
   ]
  },
  {
   "cell_type": "code",
   "execution_count": 5,
   "metadata": {},
   "outputs": [
    {
     "data": {
      "text/plain": [
       "(0.0, 1.0)"
      ]
     },
     "execution_count": 5,
     "metadata": {},
     "output_type": "execute_result"
    }
   ],
   "source": [
    "X /= 255.0\n",
    "\n",
    "X.min(), X.max()"
   ]
  },
  {
   "cell_type": "markdown",
   "metadata": {},
   "source": [
    "## Create Train and Test Dataset\n",
    "\n",
    "We use sklearn's train_test_split function to spilt the dataset into training and test subsets. The data is shuffled by default before splitting.\n",
    "\n",
    "This function splits arrays or matrices into **random** train and test subsets.\n",
    "\n",
    "For the **reproducibility of the results**, we need to use the same seed for the random number generator. The seed is set by the \"random_state\" parameter of the split function. \n",
    "\n",
    "However, in repeated experiments if we don't want to use the same train and test subsets, then we drop the \"random_state\" parameter from the funtion.\n"
   ]
  },
  {
   "cell_type": "code",
   "execution_count": 6,
   "metadata": {},
   "outputs": [],
   "source": [
    "X_train, X_test, y_train, y_test = train_test_split(X, y, test_size=0.2, random_state=0)"
   ]
  },
  {
   "cell_type": "markdown",
   "metadata": {},
   "source": [
    "# Gaussian NB: Model Selection\n",
    "\n",
    "We need to find the optimal value for the hyperparameter \"var_smoothing\".\n",
    "\n",
    "It represents the portion of the largest variance of all features that is added to variances for calculation stability. Its default vale is 1e-9."
   ]
  },
  {
   "cell_type": "code",
   "execution_count": 7,
   "metadata": {},
   "outputs": [
    {
     "name": "stdout",
     "output_type": "stream",
     "text": [
      "Fitting 10 folds for each of 4 candidates, totalling 40 fits\n"
     ]
    },
    {
     "name": "stderr",
     "output_type": "stream",
     "text": [
      "[Parallel(n_jobs=-1)]: Using backend LokyBackend with 8 concurrent workers.\n",
      "[Parallel(n_jobs=-1)]: Done  40 out of  40 | elapsed:   15.4s finished\n"
     ]
    },
    {
     "name": "stdout",
     "output_type": "stream",
     "text": [
      "Best Score (accuracy): 0.804143\n",
      "Optimal Hyperparameter Values:  {'var_smoothing': 0.1}\n",
      "\n",
      "\n",
      "CPU times: user 1.56 s, sys: 497 ms, total: 2.05 s\n",
      "Wall time: 16 s\n"
     ]
    }
   ],
   "source": [
    "%%time\n",
    "\n",
    "warnings.filterwarnings('ignore')\n",
    "\n",
    "param_grid = {'var_smoothing': [0.001, 0.01, 0.1, 1.0]}\n",
    "\n",
    "gnb = GaussianNB()\n",
    "\n",
    "gnb = GridSearchCV(gnb, param_grid, scoring='accuracy', cv=10, verbose=1, n_jobs=-1)\n",
    "gnb.fit(X_train, y_train)\n",
    "\n",
    "params_optimal = gnb.best_params_\n",
    "\n",
    "print(\"Best Score (accuracy): %f\" % gnb.best_score_)\n",
    "print(\"Optimal Hyperparameter Values: \", params_optimal)\n",
    "print(\"\\n\")"
   ]
  },
  {
   "cell_type": "markdown",
   "metadata": {},
   "source": [
    "## Train The Optimal Gaussian NB Model"
   ]
  },
  {
   "cell_type": "code",
   "execution_count": 8,
   "metadata": {},
   "outputs": [
    {
     "name": "stdout",
     "output_type": "stream",
     "text": [
      "CPU times: user 1.59 s, sys: 152 ms, total: 1.74 s\n",
      "Wall time: 501 ms\n"
     ]
    },
    {
     "data": {
      "text/plain": [
       "GaussianNB(priors=None, var_smoothing=0.1)"
      ]
     },
     "execution_count": 8,
     "metadata": {},
     "output_type": "execute_result"
    }
   ],
   "source": [
    "%%time\n",
    "\n",
    "gaussianNB_clf = GaussianNB(**params_optimal)\n",
    "\n",
    "gaussianNB_clf.fit(X_train, y_train) "
   ]
  },
  {
   "cell_type": "markdown",
   "metadata": {},
   "source": [
    "## Evaluate the Optimal Gaussian Model on Test Data"
   ]
  },
  {
   "cell_type": "code",
   "execution_count": 9,
   "metadata": {},
   "outputs": [
    {
     "name": "stdout",
     "output_type": "stream",
     "text": [
      "\n",
      "Accuracy:  0.7939285714285714\n",
      "\n",
      "Test Confusion Matrix:\n",
      "[[1243    0    3    6    1   25   37    0   61   11]\n",
      " [   0 1537    2    6    2    1    9    0   21    2]\n",
      " [  18   62 1078   37   14    2  106   14  103    9]\n",
      " [   7   87   63 1066    1   32   16   21   76   66]\n",
      " [   2   19   10    0  887   10   21    3   29  369]\n",
      " [  31   46   12  150   30  760   34   12   92   64]\n",
      " [  16   40   14    0   13   20 1260    1   23    0]\n",
      " [   6   72    6    4   44    0    1 1149   37  139]\n",
      " [   5  167   15   60   15   28    8    2  973   95]\n",
      " [  11   45    5   11   60    2    0   30   35 1162]]\n",
      "\n",
      "Test Precision = 0.793929\n",
      "\n",
      "Test Recall = 0.793929\n",
      "\n",
      "Test F1 Score = 0.793929\n",
      "\n",
      "Classification Report:\n",
      "              precision    recall  f1-score   support\n",
      "\n",
      "           0       0.93      0.90      0.91      1387\n",
      "           1       0.74      0.97      0.84      1580\n",
      "           2       0.89      0.75      0.81      1443\n",
      "           3       0.80      0.74      0.77      1435\n",
      "           4       0.83      0.66      0.73      1350\n",
      "           5       0.86      0.62      0.72      1231\n",
      "           6       0.84      0.91      0.88      1387\n",
      "           7       0.93      0.79      0.85      1458\n",
      "           8       0.67      0.71      0.69      1368\n",
      "           9       0.61      0.85      0.71      1361\n",
      "\n",
      "    accuracy                           0.79     14000\n",
      "   macro avg       0.81      0.79      0.79     14000\n",
      "weighted avg       0.81      0.79      0.79     14000\n",
      "\n"
     ]
    }
   ],
   "source": [
    "y_test_predicted = gaussianNB_clf.predict(X_test)\n",
    "\n",
    "\n",
    "accuracy_score_test = np.mean(y_test_predicted == y_test)\n",
    "print(\"\\nAccuracy: \", accuracy_score_test)\n",
    "\n",
    "print(\"\\nTest Confusion Matrix:\")\n",
    "print(confusion_matrix(y_test, y_test_predicted))\n",
    "\n",
    "precision_test = precision_score(y_test, y_test_predicted, average='micro') \n",
    "print(\"\\nTest Precision = %f\" % precision_test)\n",
    "\n",
    "recall_test = recall_score(y_test, y_test_predicted, average='micro')\n",
    "print(\"\\nTest Recall = %f\" % recall_test)\n",
    "\n",
    "\n",
    "f1_test = f1_score(y_test, y_test_predicted, average='micro')\n",
    "print(\"\\nTest F1 Score = %f\" % f1_test)\n",
    "\n",
    "\n",
    "print(\"\\nClassification Report:\")\n",
    "print(classification_report(y_test, y_test_predicted))"
   ]
  },
  {
   "cell_type": "markdown",
   "metadata": {},
   "source": [
    "# Multinomial NB: Model Selection\n",
    "\n",
    "We need to find the optimal value for the hyperparameter \"alpha\".\n",
    "\n",
    "It is the additive (Laplace/Lidstone) smoothing parameter (0 for no smoothing). Its default vale is 1.0"
   ]
  },
  {
   "cell_type": "code",
   "execution_count": 10,
   "metadata": {},
   "outputs": [
    {
     "name": "stdout",
     "output_type": "stream",
     "text": [
      "Fitting 10 folds for each of 4 candidates, totalling 40 fits\n"
     ]
    },
    {
     "name": "stderr",
     "output_type": "stream",
     "text": [
      "[Parallel(n_jobs=-1)]: Using backend LokyBackend with 8 concurrent workers.\n",
      "[Parallel(n_jobs=-1)]: Done  40 out of  40 | elapsed:    7.0s finished\n"
     ]
    },
    {
     "name": "stdout",
     "output_type": "stream",
     "text": [
      "Best Score (accuracy): 0.827714\n",
      "Optimal Hyperparameter Values:  {'alpha': 1e-06}\n",
      "\n",
      "\n",
      "CPU times: user 627 ms, sys: 335 ms, total: 962 ms\n",
      "Wall time: 7.42 s\n"
     ]
    }
   ],
   "source": [
    "%%time\n",
    "\n",
    "warnings.filterwarnings('ignore')\n",
    "\n",
    "param_grid = {'alpha': [0.000001, 0.00001, 0.0001, 0.01]}\n",
    "\n",
    "mnb = MultinomialNB()\n",
    "\n",
    "mnb = GridSearchCV(mnb, param_grid, scoring='accuracy', cv=10, verbose=1, n_jobs=-1)\n",
    "mnb.fit(X_train, y_train)\n",
    "\n",
    "params_optimal = mnb.best_params_\n",
    "\n",
    "print(\"Best Score (accuracy): %f\" % mnb.best_score_)\n",
    "print(\"Optimal Hyperparameter Values: \", params_optimal)\n",
    "print(\"\\n\")"
   ]
  },
  {
   "cell_type": "markdown",
   "metadata": {},
   "source": [
    "## Train The Optimal Multinomial NB Model"
   ]
  },
  {
   "cell_type": "code",
   "execution_count": 11,
   "metadata": {},
   "outputs": [
    {
     "name": "stdout",
     "output_type": "stream",
     "text": [
      "CPU times: user 805 ms, sys: 147 ms, total: 952 ms\n",
      "Wall time: 333 ms\n"
     ]
    },
    {
     "data": {
      "text/plain": [
       "MultinomialNB(alpha=1e-06, class_prior=None, fit_prior=True)"
      ]
     },
     "execution_count": 11,
     "metadata": {},
     "output_type": "execute_result"
    }
   ],
   "source": [
    "%%time\n",
    "\n",
    "multinomialNB_clf = MultinomialNB(**params_optimal)\n",
    "\n",
    "multinomialNB_clf.fit(X_train, y_train) "
   ]
  },
  {
   "cell_type": "markdown",
   "metadata": {},
   "source": [
    "## Evaluate the Optimal Multinomial Model on Test Data"
   ]
  },
  {
   "cell_type": "code",
   "execution_count": 12,
   "metadata": {},
   "outputs": [
    {
     "name": "stdout",
     "output_type": "stream",
     "text": [
      "\n",
      "Accuracy:  0.8192857142857143\n",
      "\n",
      "Test Confusion Matrix:\n",
      "[[1260    0    7    7    2   19   23    0   69    0]\n",
      " [   0 1487    8   14    3    3    9    0   54    2]\n",
      " [  21   20 1182   31   12    0   71   13   88    5]\n",
      " [   3   27   79 1147    1   37    7   17   69   48]\n",
      " [   2    3    8    2 1007    6   26    3   56  237]\n",
      " [  33   11   17  155   29  794   30    3  119   40]\n",
      " [  19   24   24    0   11   25 1263    0   21    0]\n",
      " [   8   20   14    8   46    0    2 1170   66  124]\n",
      " [   4   83   17   85   22   39    8    3 1048   59]\n",
      " [   8   16    8   17   87    4    0   41   68 1112]]\n",
      "\n",
      "Test Precision = 0.819286\n",
      "\n",
      "Test Recall = 0.819286\n",
      "\n",
      "Test F1 Score = 0.819286\n",
      "\n",
      "Classification Report:\n",
      "              precision    recall  f1-score   support\n",
      "\n",
      "           0       0.93      0.91      0.92      1387\n",
      "           1       0.88      0.94      0.91      1580\n",
      "           2       0.87      0.82      0.84      1443\n",
      "           3       0.78      0.80      0.79      1435\n",
      "           4       0.83      0.75      0.78      1350\n",
      "           5       0.86      0.65      0.74      1231\n",
      "           6       0.88      0.91      0.89      1387\n",
      "           7       0.94      0.80      0.86      1458\n",
      "           8       0.63      0.77      0.69      1368\n",
      "           9       0.68      0.82      0.74      1361\n",
      "\n",
      "    accuracy                           0.82     14000\n",
      "   macro avg       0.83      0.82      0.82     14000\n",
      "weighted avg       0.83      0.82      0.82     14000\n",
      "\n"
     ]
    }
   ],
   "source": [
    "y_test_predicted_mnb = multinomialNB_clf.predict(X_test)\n",
    "\n",
    "\n",
    "accuracy_score_test = np.mean(y_test_predicted_mnb == y_test)\n",
    "print(\"\\nAccuracy: \", accuracy_score_test)\n",
    "\n",
    "print(\"\\nTest Confusion Matrix:\")\n",
    "print(confusion_matrix(y_test, y_test_predicted_mnb))\n",
    "\n",
    "precision_test = precision_score(y_test, y_test_predicted_mnb, average='micro') \n",
    "print(\"\\nTest Precision = %f\" % precision_test)\n",
    "\n",
    "recall_test = recall_score(y_test, y_test_predicted_mnb, average='micro')\n",
    "print(\"\\nTest Recall = %f\" % recall_test)\n",
    "\n",
    "\n",
    "f1_test = f1_score(y_test, y_test_predicted_mnb, average='micro')\n",
    "print(\"\\nTest F1 Score = %f\" % f1_test)\n",
    "\n",
    "\n",
    "print(\"\\nClassification Report:\")\n",
    "print(classification_report(y_test, y_test_predicted_mnb))"
   ]
  },
  {
   "cell_type": "markdown",
   "metadata": {},
   "source": [
    "## Multinomial vs Gaussian Naive Bayes for Image Classification\n",
    "\n",
    "The multinomial Naive Bayes classifier performs better than the Gaussian variant. \n",
    "\n",
    "In fact, each sample can be thought as a feature vector derived from a dictionary of 764 symbols. The value can be the count of each occurrence, so a multinomial distribution can better fit the data, while a Gaussian is slightly more limited by its mean and variance.\n"
   ]
  },
  {
   "cell_type": "markdown",
   "metadata": {},
   "source": [
    "# K-NN Classifier\n",
    "\n",
    "The model selection for the KNN classifier on the MNIST dataset takes awfully long time. \n",
    "\n",
    "For a detail discussion on K-NN model selection, see the github repository \"K-NN-6-Curse of Dimensionality\".\n",
    "\n",
    "\n",
    "Below we provide the commented out code that we used to find the optimal KNN model."
   ]
  },
  {
   "cell_type": "code",
   "execution_count": 13,
   "metadata": {},
   "outputs": [],
   "source": [
    "# %%time\n",
    "\n",
    "# warnings.filterwarnings('ignore')\n",
    "\n",
    "# # The param_grid tells Scikit-Learn to evaluate all combinations of the hyperparameter values\n",
    "# param_grid = {'n_neighbors': [3, 4, 5, 9], 'p': [1, 2, 1000], 'weights': [\"uniform\", \"distance\"]}\n",
    "\n",
    "\n",
    "# knn_clf = KNeighborsClassifier()\n",
    "\n",
    "# knn_cv = GridSearchCV(knn_clf, param_grid, scoring='f1_micro', cv=5, verbose=1, n_jobs=-1)\n",
    "# knn_cv.fit(X_train, y_train)\n",
    "\n",
    "\n",
    "# params_optimal_knn = knn_cv.best_params_\n",
    "\n",
    "# print(\"Best Score: %f\" % knn_cv.best_score_)\n",
    "# print(\"Optimal Hyperparameter Values: \", params_optimal_knn)\n",
    "# print(\"\\n\")"
   ]
  },
  {
   "cell_type": "markdown",
   "metadata": {},
   "source": [
    "## Train The Optimal K-NN Classifier\n",
    "\n",
    "The optimal hyperparameters for the K-NN model are:\n",
    "- weights = \"distance\"\n",
    "- n_neighbots = 4\n",
    "- p = 2"
   ]
  },
  {
   "cell_type": "code",
   "execution_count": 14,
   "metadata": {},
   "outputs": [
    {
     "name": "stdout",
     "output_type": "stream",
     "text": [
      "\n",
      "\n",
      "CPU times: user 14min 41s, sys: 2.18 s, total: 14min 43s\n",
      "Wall time: 14min 44s\n"
     ]
    }
   ],
   "source": [
    "%%time\n",
    "\n",
    "warnings.filterwarnings('ignore')\n",
    "\n",
    "knn_clf = KNeighborsClassifier(n_neighbors=4, p = 2, weights='distance')\n",
    "\n",
    "knn_clf.fit(X_train, y_train)\n",
    "\n",
    "y_test_predicted_knn = knn_clf.predict(X_test)\n",
    "\n",
    "print(\"\\n\")"
   ]
  },
  {
   "cell_type": "markdown",
   "metadata": {},
   "source": [
    "## Evaluate the Optimal KNN Model on Test Data"
   ]
  },
  {
   "cell_type": "code",
   "execution_count": 15,
   "metadata": {},
   "outputs": [
    {
     "name": "stdout",
     "output_type": "stream",
     "text": [
      "\n",
      "Accuracy:  0.9734285714285714\n",
      "\n",
      "Test Confusion Matrix:\n",
      "[[1374    1    1    1    0    0    9    0    1    0]\n",
      " [   0 1576    2    1    0    0    0    1    0    0]\n",
      " [   7    8 1397    3    2    0    1   18    6    1]\n",
      " [   0    2   17 1380    1   11    0    7   15    2]\n",
      " [   1    6    0    0 1312    0    0    4    1   26]\n",
      " [   1    2    1   10    1 1187   18    2    3    6]\n",
      " [   4    2    0    0    5    6 1369    0    1    0]\n",
      " [   0   16    5    0    1    0    0 1422    1   13]\n",
      " [   2   19    3   11    4   20    4    0 1287   18]\n",
      " [   1    0    1    8   11    2    1   12    1 1324]]\n",
      "\n",
      "Test Precision = 0.973429\n",
      "\n",
      "Test Recall = 0.973429\n",
      "\n",
      "Test F1 Score = 0.973429\n",
      "\n",
      "Classification Report:\n",
      "              precision    recall  f1-score   support\n",
      "\n",
      "           0       0.99      0.99      0.99      1387\n",
      "           1       0.97      1.00      0.98      1580\n",
      "           2       0.98      0.97      0.97      1443\n",
      "           3       0.98      0.96      0.97      1435\n",
      "           4       0.98      0.97      0.98      1350\n",
      "           5       0.97      0.96      0.97      1231\n",
      "           6       0.98      0.99      0.98      1387\n",
      "           7       0.97      0.98      0.97      1458\n",
      "           8       0.98      0.94      0.96      1368\n",
      "           9       0.95      0.97      0.96      1361\n",
      "\n",
      "    accuracy                           0.97     14000\n",
      "   macro avg       0.97      0.97      0.97     14000\n",
      "weighted avg       0.97      0.97      0.97     14000\n",
      "\n"
     ]
    }
   ],
   "source": [
    "\n",
    "accuracy_score_test = np.mean(y_test_predicted_knn == y_test)\n",
    "print(\"\\nAccuracy: \", accuracy_score_test)\n",
    "\n",
    "\n",
    "print(\"\\nTest Confusion Matrix:\")\n",
    "print(confusion_matrix(y_test, y_test_predicted_knn))\n",
    "\n",
    "precision_test = precision_score(y_test, y_test_predicted_knn, average='micro') \n",
    "print(\"\\nTest Precision = %f\" % precision_test)\n",
    "\n",
    "recall_test = recall_score(y_test, y_test_predicted_knn, average='micro')\n",
    "print(\"\\nTest Recall = %f\" % recall_test)\n",
    "\n",
    "\n",
    "f1_test = f1_score(y_test, y_test_predicted_knn, average='micro')\n",
    "print(\"\\nTest F1 Score = %f\" % f1_test)\n",
    "\n",
    "\n",
    "print(\"\\nClassification Report:\")\n",
    "print(classification_report(y_test, y_test_predicted_knn))"
   ]
  },
  {
   "cell_type": "markdown",
   "metadata": {},
   "source": [
    "## Observation:\n",
    "\n",
    "\n",
    "While the KNN clssifier accuracy is 97%, the NB classifier (multinomial) accuracy is only about 82%. \n",
    "\n",
    "The poor perfomance of the NB classifier is due to the inadequacy of the naive Bayes assumption in the image classfication domain, especially when pixels represent the feature values. It is indeed incorrect to assume that each and every pixel are independently generated, depending only on the label. \n",
    "\n",
    "Thus, while we can independently compute the likelihood of the values of a feature vector in text classfication, and take the product of the individual likelihood values to estimate the feature vector likelihood, this does not work in image classification.\n",
    "\n",
    "The words (mostly) in a document are representative micro-unit of the class of the document. Each word independetly bears the \"smell\" of the class.\n",
    "\n",
    "However, in image classification, when we use pixel values as the values of a feature vector, they no more are representative of the class. The pixel micro-units don't have enough \"information\" to individually relate to the class of the feature.\n",
    "\n",
    "However, we can use clusters of pixels (meaningful patches from an image) to define \"visual words\" and use them as components of the feature vector. By doing this we can extend the \"bag of words\" model to solve object classification in computer vision by using NB algorithm.\n",
    "\n",
    "More detail on object recognition using visual \"bag of words\" model:\n",
    "http://vision.stanford.edu/teaching/cs231a_autumn1112/lecture/lecture15_bow_part-based_cs231a_marked.pdf\n",
    "\n",
    "\n",
    "# <font color=red> Key Lesson:</font>\n",
    "\n",
    "The success of the NB algorithm depends on the feature values. If the feature values (textual or visual words) independently relate to the class of the sample, then we can apply the NB assumption. And as long as we can apply the NB assumption meaningfully, the NB algorithm will perform well."
   ]
  }
 ],
 "metadata": {
  "anaconda-cloud": {},
  "kernelspec": {
   "display_name": "Python 3",
   "language": "python",
   "name": "python3"
  },
  "language_info": {
   "codemirror_mode": {
    "name": "ipython",
    "version": 3
   },
   "file_extension": ".py",
   "mimetype": "text/x-python",
   "name": "python",
   "nbconvert_exporter": "python",
   "pygments_lexer": "ipython3",
   "version": "3.7.3"
  }
 },
 "nbformat": 4,
 "nbformat_minor": 1
}
